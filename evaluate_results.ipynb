{
 "cells": [
  {
   "cell_type": "code",
   "execution_count": 246,
   "metadata": {},
   "outputs": [],
   "source": [
    "import pickle\n",
    "import time\n",
    "import numpy as np\n",
    "import operator\n",
    "import argparse\n",
    "import copy\n",
    "import os\n",
    "import math\n",
    "import glob\n",
    "from collections import Counter, defaultdict\n",
    "import pandas as pd\n",
    "import matplotlib.pyplot as plt\n",
    "from sklearn.metrics import accuracy_score, f1_score, recall_score, precision_score, confusion_matrix,\\\n",
    "        ConfusionMatrixDisplay\n",
    "\n",
    "%matplotlib inline"
   ]
  },
  {
   "cell_type": "code",
   "execution_count": 247,
   "metadata": {},
   "outputs": [],
   "source": [
    "ROOT_DIR = '/home/blansdel/projects/comet/FAIRY/'\n",
    "TOPK = 5\n",
    "\n",
    "#1024 patches\n",
    "#result_path = f\"{ROOT_DIR}/QUERY_RESULTS/all/results_1024.pkl\"\n",
    "#2048 patches\n",
    "result_path = f\"{ROOT_DIR}/QUERY_RESULTS/all/results.pkl\""
   ]
  },
  {
   "cell_type": "code",
   "execution_count": 248,
   "metadata": {},
   "outputs": [],
   "source": [
    "class Args(object):\n",
    "    def __init__(self):\n",
    "\n",
    "        self.result_path = result_path\n",
    "        self.csv_path = f\"{ROOT_DIR}/QUERY_RESULTS/all/summary.csv\"\n",
    "        self.site = 'all'\n",
    "        \n",
    "args = Args()"
   ]
  },
  {
   "cell_type": "code",
   "execution_count": 249,
   "metadata": {},
   "outputs": [],
   "source": [
    "def Uncertainty_Cal(bag, is_organ=False):\n",
    "    \"\"\"\n",
    "    Implementation of Weighted-Uncertainty-Cal in the paper.\n",
    "    Input:\n",
    "        bag (list): A list of dictionary which contain the searhc results for each mosaic\n",
    "    Output:\n",
    "        ent (float): The entropy of the mosaic retrieval results\n",
    "        label_count (dict): The diagnois and the corresponding weight for each mosaic\n",
    "        hamming_dist (list): A list of hamming distance between the input mosaic and the result\n",
    "    \"\"\"\n",
    "    if len(bag) >= 1:\n",
    "        label = []\n",
    "        hamming_dist = []\n",
    "        label_count = defaultdict(float)\n",
    "        for bres in bag:\n",
    "            if is_organ:\n",
    "                label.append(bres['site'])\n",
    "            else:\n",
    "                label.append(bres['diagnosis'])\n",
    "            hamming_dist.append(bres['hamming_dist'])\n",
    "\n",
    "        # Counting the diagnoiss by weigted count\n",
    "        # If the count is less than 1, round to 1\n",
    "        for lb_idx, lb in enumerate(label):\n",
    "            label_count[lb] += (1. / (lb_idx + 1)) * weight[lb]\n",
    "        for k, v in label_count.items():\n",
    "            if v < 1.0:\n",
    "                v = 1.0\n",
    "            else:\n",
    "                label_count[k] = v\n",
    "\n",
    "        # Normalizing the count to [0,1] for entropy calculation\n",
    "        total = 0\n",
    "        ent = 0\n",
    "        for v in label_count.values():\n",
    "            total += v\n",
    "        for k in label_count.keys():\n",
    "            label_count[k] = label_count[k] / total\n",
    "        for v in label_count.values():\n",
    "            ent += (-v * np.log2(v))\n",
    "        return ent, label_count, hamming_dist\n",
    "    else:\n",
    "        return None, None, None\n",
    "\n",
    "\n",
    "def Clean(len_info, bag_summary):\n",
    "    \"\"\"\n",
    "    Implementation of Clean in the paper\n",
    "    Input:\n",
    "        len_info (list): The length of retrieval results for each mosaic\n",
    "        bag_summary (list): A list that contains the positional index of mosaic,\n",
    "        entropy, the hamming distance list, and the length of retrieval results\n",
    "    Output:\n",
    "        bag_summary (list): The same format as input one but without low quality result\n",
    "        (i.e, result with large hamming distance)\n",
    "        top5_hamming_distance (float): The mean of average hamming distance in top 5\n",
    "        retrival results of all mosaics\n",
    "    \"\"\"\n",
    "    LOW_FREQ_THRSH = 3\n",
    "    LOW_PRECENT_THRSH = 5\n",
    "    HIGH_PERCENT_THRSH = 95\n",
    "    len_info = [b[-1] for b in bag_summary]\n",
    "    if len(set(len_info)) <= LOW_FREQ_THRSH:\n",
    "        pass\n",
    "    else:\n",
    "        bag_summary = [b for b in bag_summary if b[-1]\n",
    "                       > np.percentile(len_info, LOW_PRECENT_THRSH)\n",
    "                       and b[-1] < np.percentile(len_info, HIGH_PERCENT_THRSH)]\n",
    "\n",
    "    # Remove the mosaic if its top5 mean hammign distance is bigger than average\n",
    "    top5_hamming_dist = np.mean([np.mean(b[2][0:TOPK]) for b in bag_summary])\n",
    "\n",
    "    bag_summary = sorted(bag_summary, key=lambda x: (x[1]))  # sort by certainty\n",
    "    bag_summary = [b for b in bag_summary if np.mean(b[2][0:TOPK]) <= top5_hamming_dist]\n",
    "    return bag_summary, top5_hamming_dist\n",
    "\n",
    "\n",
    "def Filtered_BY_Prediction(bag_summary, label_count_summary):\n",
    "    \"\"\"\n",
    "    Implementation of Filtered_By_Prediction in the paper\n",
    "    Input:\n",
    "        bag_summary (list): The same as the output from Clean\n",
    "        label_count_summary (dict): The dictionary storing the diagnosis occurrence \n",
    "        of the retrieval result in each mosaic\n",
    "    Output:\n",
    "        bag_removed: The index (positional) of moaic that should not be considered \n",
    "        among the top5\n",
    "    \"\"\"\n",
    "    voting_board = defaultdict(float)\n",
    "    for b in bag_summary[0:TOPK]:\n",
    "        bag_index = b[0]\n",
    "        for k, v in label_count_summary[bag_index].items():\n",
    "            voting_board[k] += v\n",
    "    final_vote_candidates = sorted(voting_board.items(), key=lambda x: -x[1])\n",
    "    fv_pointer = 0\n",
    "    while True:\n",
    "        final_vote = final_vote_candidates[fv_pointer][0]\n",
    "        bag_removed = {}\n",
    "        for b in bag_summary[0:TOPK]:\n",
    "            bag_index = b[0]\n",
    "            max_vote = max(label_count_summary[bag_index].items(), key=operator.itemgetter(1))[0]\n",
    "            if max_vote != final_vote:\n",
    "                bag_removed[bag_index] = 1\n",
    "        if len(bag_removed) != len(bag_summary[0:TOPK]):\n",
    "            break\n",
    "        else:\n",
    "            fv_pointer += 1\n",
    "    return bag_removed"
   ]
  },
  {
   "cell_type": "code",
   "execution_count": 250,
   "metadata": {},
   "outputs": [],
   "source": [
    "# Load the result file and corresponding slide's diagnosis label\n",
    "with open(args.result_path, 'rb') as handle:\n",
    "    results = pickle.load(handle)\n",
    "\n",
    "# Count the number of slide in each diagnosis (organ)\n",
    "if args.site == 'organ':\n",
    "    topK_mMV = 10\n",
    "    type_of_diagnosis = [os.path.basename(e) for e in glob.glob(f\"{ROOT_DIR}/DATA/LATENT/*\")]\n",
    "else:\n",
    "    topK_mMV = TOPK\n",
    "    type_of_diagnosis = [os.path.basename(e) for e in glob.glob(f\"{ROOT_DIR}/DATA/LATENT/{args.site}/*\")]\n",
    "total_slide = {k: 0 for k in type_of_diagnosis}\n",
    "for k, v in results.items():\n",
    "    total_slide[v['label_query']] += 1\n",
    "\n",
    "# Using the inverse count as a weight for each diagnosis\n",
    "sum_inv = 0\n",
    "for v in total_slide.values():\n",
    "    if v:\n",
    "        sum_inv += (1./v)\n",
    "\n",
    "# Set a parameter k  to make the weight sum to k (k = 10, here)\n",
    "if args.site == 'organ':\n",
    "    norm_fact = 30 / sum_inv\n",
    "else:\n",
    "    norm_fact = 10 / sum_inv\n",
    "\n",
    "weight = {}\n",
    "for k,v in total_slide.items():\n",
    "    if v:\n",
    "        weight[k] = norm_fact * 1./v\n",
    "    else:\n",
    "        weight[k] = norm_fact\n",
    "\n",
    "#weight = {k: norm_fact * 1./v for k, v in total_slide.items()}\n",
    "\n",
    "metric_dict = {k: {'accuracy': 0, 'precision': 0, 'total_slide': 0}\n",
    "               for k in weight.keys()}\n",
    "bag_for_ret = {k: {} for k in weight.keys()}\n",
    "t_start = time.time()\n",
    "\n",
    "summary_df = pd.DataFrame()"
   ]
  },
  {
   "cell_type": "code",
   "execution_count": 251,
   "metadata": {},
   "outputs": [],
   "source": [
    "# Evaluating the result diagnosis by diagnosis\n",
    "all_results = {}\n",
    "for evlb in weight.keys():\n",
    "    eval_label = evlb\n",
    "    #print(evlb)\n",
    "    corr = 0\n",
    "    percision = 0\n",
    "    avg_percision = 0\n",
    "    count = 0\n",
    "    for test_slide in results.keys():\n",
    "        test_slide_result = results[test_slide]['results']\n",
    "        label_query = results[test_slide]['label_query']\n",
    "        if label_query != eval_label:\n",
    "            continue\n",
    "        else:\n",
    "            # Filter out complete failure case (i.e.,\n",
    "            # All mosaics fail to retrieve a patch that meet the criteria)\n",
    "            ttlen = 0\n",
    "            for tt in test_slide_result:\n",
    "                ttlen += len(tt)\n",
    "            if ttlen == 0:\n",
    "                count += 1\n",
    "                continue\n",
    "            bag_result = []\n",
    "            bag_summary = []\n",
    "            len_info = []\n",
    "            label_count_summary = {}\n",
    "#             try:\n",
    "            for idx, bag in enumerate(test_slide_result):\n",
    "                if args.site == 'organ':\n",
    "                    ent, label_cnt, dist = Uncertainty_Cal(bag, is_organ=True)\n",
    "                else:\n",
    "                    ent, label_cnt, dist = Uncertainty_Cal(bag)\n",
    "                if ent is not None:\n",
    "                    label_count_summary[idx] = label_cnt\n",
    "                    bag_summary.append((idx, ent, dist, len(bag)))\n",
    "                    len_info.append(len(bag))\n",
    "#             except KeyError as e:\n",
    "#                 print(e)\n",
    "#                 continue\n",
    "        \n",
    "        bag_summary_dirty = copy.deepcopy(bag_summary)\n",
    "        ##The bag_summary here is sorted by certainty\n",
    "        #This means that we pick slides below based only on the query mosiac\n",
    "        #that has highest certainty. Perhaps basing it on one mosiac isn't a good idea?\n",
    "        #What if only that single mosiac has very high similarity, and the rest is totally different?\n",
    "        bag_summary, hamming_thrsh = Clean(len_info, bag_summary)\n",
    "        bag_removed = Filtered_BY_Prediction(bag_summary, label_count_summary)\n",
    "\n",
    "        # Process to calculate the final ret slide\n",
    "        ret_final = []\n",
    "        visited = {}\n",
    "\n",
    "        for b in bag_summary:\n",
    "            bag_index = b[0]\n",
    "            uncertainty = b[1]\n",
    "            res = results[test_slide]['results'][bag_index]\n",
    "            for r in res:\n",
    "                if uncertainty == 0:\n",
    "                    if r['slide_name'] not in visited:\n",
    "                        if args.site == 'organ':\n",
    "                            ret_final.append((r['slide_name'], r['hamming_dist'],\n",
    "                                              r['site'], uncertainty,\n",
    "                                              bag_index, r['query_slide'], r['query_coords'], (r['x'], r['y'])))\n",
    "                        else:\n",
    "                            ret_final.append((r['slide_name'], r['hamming_dist'],\n",
    "                                              r['diagnosis'], uncertainty,\n",
    "                                              bag_index, r['query_slide'], r['query_coords'], (r['x'], r['y'])))\n",
    "                        visited[r['slide_name']] = 1\n",
    "                else:\n",
    "                    if (r['hamming_dist'] <= hamming_thrsh) and\\\n",
    "                       (r['slide_name'] not in visited):\n",
    "                        if args.site == 'organ':\n",
    "                            ret_final.append((r['slide_name'], r['hamming_dist'],\n",
    "                                              r['site'], uncertainty,\n",
    "                                              bag_index, r['query_slide'], r['query_coords'], (r['x'], r['y'])))\n",
    "                        else:\n",
    "                            ret_final.append((r['slide_name'], r['hamming_dist'],\n",
    "                                              r['diagnosis'], uncertainty,\n",
    "                                              bag_index, r['query_slide'], r['query_coords'], (r['x'], r['y'])))\n",
    "                        visited[r['slide_name']] = 1\n",
    "\n",
    "        #print(ret_final)\n",
    "        ret_final_tmp = [e for e in\n",
    "                         sorted(ret_final, key=lambda x: (x[3], x[1]))\n",
    "                         if e[-4] not in bag_removed][0:topK_mMV]\n",
    "\n",
    "        ret_final_ = [e[0] for e in\n",
    "                     sorted(ret_final, key=lambda x: (x[3], x[1]))\n",
    "                     if e[-4] not in bag_removed][0:topK_mMV]\n",
    "\n",
    "        ret_final = [e[2] for e in\n",
    "                     sorted(ret_final, key=lambda x: (x[3], x[1]))\n",
    "                     if e[-4] not in bag_removed][0:topK_mMV]\n",
    "\n",
    "        all_results[test_slide] = ret_final_tmp"
   ]
  },
  {
   "cell_type": "code",
   "execution_count": 252,
   "metadata": {},
   "outputs": [
    {
     "data": {
      "text/html": [
       "<div>\n",
       "<style scoped>\n",
       "    .dataframe tbody tr th:only-of-type {\n",
       "        vertical-align: middle;\n",
       "    }\n",
       "\n",
       "    .dataframe tbody tr th {\n",
       "        vertical-align: top;\n",
       "    }\n",
       "\n",
       "    .dataframe thead th {\n",
       "        text-align: right;\n",
       "    }\n",
       "</style>\n",
       "<table border=\"1\" class=\"dataframe\">\n",
       "  <thead>\n",
       "    <tr style=\"text-align: right;\">\n",
       "      <th></th>\n",
       "      <th>slideid</th>\n",
       "      <th>site</th>\n",
       "      <th>diagnosis</th>\n",
       "    </tr>\n",
       "  </thead>\n",
       "  <tbody>\n",
       "    <tr>\n",
       "      <th>0</th>\n",
       "      <td>6799_</td>\n",
       "      <td>face</td>\n",
       "      <td>RMS_S</td>\n",
       "    </tr>\n",
       "    <tr>\n",
       "      <th>1</th>\n",
       "      <td>6798_</td>\n",
       "      <td>dura</td>\n",
       "      <td>RMS_S</td>\n",
       "    </tr>\n",
       "    <tr>\n",
       "      <th>2</th>\n",
       "      <td>8081_</td>\n",
       "      <td>omental</td>\n",
       "      <td>RMS_A</td>\n",
       "    </tr>\n",
       "    <tr>\n",
       "      <th>3</th>\n",
       "      <td>8083_</td>\n",
       "      <td>chest</td>\n",
       "      <td>RMS_A</td>\n",
       "    </tr>\n",
       "    <tr>\n",
       "      <th>4</th>\n",
       "      <td>6803_</td>\n",
       "      <td>face</td>\n",
       "      <td>RMS_S</td>\n",
       "    </tr>\n",
       "    <tr>\n",
       "      <th>...</th>\n",
       "      <td>...</td>\n",
       "      <td>...</td>\n",
       "      <td>...</td>\n",
       "    </tr>\n",
       "    <tr>\n",
       "      <th>283</th>\n",
       "      <td>5702_</td>\n",
       "      <td>retroperitoneum</td>\n",
       "      <td>RMS_E</td>\n",
       "    </tr>\n",
       "    <tr>\n",
       "      <th>284</th>\n",
       "      <td>6836_</td>\n",
       "      <td>paranasal</td>\n",
       "      <td>RMS_A</td>\n",
       "    </tr>\n",
       "    <tr>\n",
       "      <th>285</th>\n",
       "      <td>6844_</td>\n",
       "      <td>lymph</td>\n",
       "      <td>RMS_E</td>\n",
       "    </tr>\n",
       "    <tr>\n",
       "      <th>286</th>\n",
       "      <td>6848_</td>\n",
       "      <td>lung</td>\n",
       "      <td>RMS_E</td>\n",
       "    </tr>\n",
       "    <tr>\n",
       "      <th>289</th>\n",
       "      <td>6843_</td>\n",
       "      <td>breast</td>\n",
       "      <td>RMS_A</td>\n",
       "    </tr>\n",
       "  </tbody>\n",
       "</table>\n",
       "<p>229 rows × 3 columns</p>\n",
       "</div>"
      ],
      "text/plain": [
       "    slideid             site diagnosis\n",
       "0     6799_             face     RMS_S\n",
       "1     6798_             dura     RMS_S\n",
       "2     8081_          omental     RMS_A\n",
       "3     8083_            chest     RMS_A\n",
       "4     6803_             face     RMS_S\n",
       "..      ...              ...       ...\n",
       "283   5702_  retroperitoneum     RMS_E\n",
       "284   6836_        paranasal     RMS_A\n",
       "285   6844_            lymph     RMS_E\n",
       "286   6848_             lung     RMS_E\n",
       "289   6843_           breast     RMS_A\n",
       "\n",
       "[229 rows x 3 columns]"
      ]
     },
     "execution_count": 252,
     "metadata": {},
     "output_type": "execute_result"
    }
   ],
   "source": [
    "diag_dict = {'Spindle': 'RMS_S', 'ARMS': 'RMS_A', 'ERMS': 'RMS_E'}\n",
    "\n",
    "metadata_fn = '/home/blansdel/projects/comet/comet_rms/raw/RMS_samples_083121.csv'\n",
    "#metadata_fn = '/home/blansdell/projects/comet/comet_rms/raw/RMS_samples_083121.csv'\n",
    "\n",
    "metadata = pd.read_csv(metadata_fn, header = 2).iloc[:,:21]\n",
    "metadata = metadata[pd.notnull(metadata['Slide Scan File'])][['Slide Scan File', 'Site', 'Subtype (Corrected)']]\n",
    "metadata = metadata.rename(columns = {'Slide Scan File': 'slideid', 'Site': 'site', 'Subtype (Corrected)': 'diagnosis'})\n",
    "metadata['slideid'] = metadata['slideid'].apply(lambda x: str(int(x))+'_')\n",
    "metadata['diagnosis'] = metadata['diagnosis'].apply(lambda x: diag_dict[x] if x in diag_dict else pd.NA)\n",
    "metadata['site'] = metadata['site'].apply(lambda x: str(x).lower().split(' ')[0])\n",
    "metadata = metadata[pd.notnull(metadata['diagnosis'])]\n",
    "metadata"
   ]
  },
  {
   "cell_type": "code",
   "execution_count": 253,
   "metadata": {},
   "outputs": [
    {
     "data": {
      "text/html": [
       "<div>\n",
       "<style scoped>\n",
       "    .dataframe tbody tr th:only-of-type {\n",
       "        vertical-align: middle;\n",
       "    }\n",
       "\n",
       "    .dataframe tbody tr th {\n",
       "        vertical-align: top;\n",
       "    }\n",
       "\n",
       "    .dataframe thead th {\n",
       "        text-align: right;\n",
       "    }\n",
       "</style>\n",
       "<table border=\"1\" class=\"dataframe\">\n",
       "  <thead>\n",
       "    <tr style=\"text-align: right;\">\n",
       "      <th></th>\n",
       "      <th>query</th>\n",
       "      <th>query_class</th>\n",
       "    </tr>\n",
       "  </thead>\n",
       "  <tbody>\n",
       "    <tr>\n",
       "      <th>0</th>\n",
       "      <td>9843__</td>\n",
       "      <td>EWS</td>\n",
       "    </tr>\n",
       "    <tr>\n",
       "      <th>1</th>\n",
       "      <td>9844__</td>\n",
       "      <td>EWS</td>\n",
       "    </tr>\n",
       "    <tr>\n",
       "      <th>2</th>\n",
       "      <td>9845__</td>\n",
       "      <td>EWS</td>\n",
       "    </tr>\n",
       "    <tr>\n",
       "      <th>3</th>\n",
       "      <td>9837__</td>\n",
       "      <td>EWS</td>\n",
       "    </tr>\n",
       "    <tr>\n",
       "      <th>4</th>\n",
       "      <td>9841__</td>\n",
       "      <td>EWS</td>\n",
       "    </tr>\n",
       "    <tr>\n",
       "      <th>...</th>\n",
       "      <td>...</td>\n",
       "      <td>...</td>\n",
       "    </tr>\n",
       "    <tr>\n",
       "      <th>357</th>\n",
       "      <td>5674__</td>\n",
       "      <td>OS</td>\n",
       "    </tr>\n",
       "    <tr>\n",
       "      <th>361</th>\n",
       "      <td>5680__</td>\n",
       "      <td>OS</td>\n",
       "    </tr>\n",
       "    <tr>\n",
       "      <th>365</th>\n",
       "      <td>5690__</td>\n",
       "      <td>OS</td>\n",
       "    </tr>\n",
       "    <tr>\n",
       "      <th>367</th>\n",
       "      <td>5696__</td>\n",
       "      <td>OS</td>\n",
       "    </tr>\n",
       "    <tr>\n",
       "      <th>369</th>\n",
       "      <td>5689__</td>\n",
       "      <td>OS</td>\n",
       "    </tr>\n",
       "  </tbody>\n",
       "</table>\n",
       "<p>247 rows × 2 columns</p>\n",
       "</div>"
      ],
      "text/plain": [
       "      query query_class\n",
       "0    9843__         EWS\n",
       "1    9844__         EWS\n",
       "2    9845__         EWS\n",
       "3    9837__         EWS\n",
       "4    9841__         EWS\n",
       "..      ...         ...\n",
       "357  5674__          OS\n",
       "361  5680__          OS\n",
       "365  5690__          OS\n",
       "367  5696__          OS\n",
       "369  5689__          OS\n",
       "\n",
       "[247 rows x 2 columns]"
      ]
     },
     "execution_count": 253,
     "metadata": {},
     "output_type": "execute_result"
    }
   ],
   "source": [
    "all_metadata_fn = '/mnt/storage2/COMET/metaData/ImageSearch_NB_OS_EWS_MRT_370.csv'\n",
    "all_metadata = pd.read_csv(all_metadata_fn)\n",
    "all_metadata = all_metadata[all_metadata['SlideAvailable'] == 1.0][['filename', 'Disease']]\n",
    "all_metadata = all_metadata.rename(columns = {'filename': 'query', 'Disease': 'query_class'})\n",
    "all_metadata['query'] = all_metadata['query'].apply(lambda x: x.split('.')[0] + '__')\n",
    "all_metadata"
   ]
  },
  {
   "cell_type": "code",
   "execution_count": 254,
   "metadata": {},
   "outputs": [
    {
     "data": {
      "text/html": [
       "<div>\n",
       "<style scoped>\n",
       "    .dataframe tbody tr th:only-of-type {\n",
       "        vertical-align: middle;\n",
       "    }\n",
       "\n",
       "    .dataframe tbody tr th {\n",
       "        vertical-align: top;\n",
       "    }\n",
       "\n",
       "    .dataframe thead th {\n",
       "        text-align: right;\n",
       "    }\n",
       "</style>\n",
       "<table border=\"1\" class=\"dataframe\">\n",
       "  <thead>\n",
       "    <tr style=\"text-align: right;\">\n",
       "      <th></th>\n",
       "      <th>query</th>\n",
       "      <th>hit_slide</th>\n",
       "      <th>query_class</th>\n",
       "      <th>hit_class</th>\n",
       "    </tr>\n",
       "  </thead>\n",
       "  <tbody>\n",
       "    <tr>\n",
       "      <th>0</th>\n",
       "      <td>6744__</td>\n",
       "      <td>5673__</td>\n",
       "      <td>OS</td>\n",
       "      <td>OS</td>\n",
       "    </tr>\n",
       "    <tr>\n",
       "      <th>0</th>\n",
       "      <td>6744__</td>\n",
       "      <td>11575__</td>\n",
       "      <td>OS</td>\n",
       "      <td>OS</td>\n",
       "    </tr>\n",
       "    <tr>\n",
       "      <th>0</th>\n",
       "      <td>6744__</td>\n",
       "      <td>6947_</td>\n",
       "      <td>OS</td>\n",
       "      <td>RMS</td>\n",
       "    </tr>\n",
       "    <tr>\n",
       "      <th>0</th>\n",
       "      <td>6744__</td>\n",
       "      <td>6850__</td>\n",
       "      <td>OS</td>\n",
       "      <td>MRT</td>\n",
       "    </tr>\n",
       "    <tr>\n",
       "      <th>0</th>\n",
       "      <td>6744__</td>\n",
       "      <td>6765__</td>\n",
       "      <td>OS</td>\n",
       "      <td>OS</td>\n",
       "    </tr>\n",
       "    <tr>\n",
       "      <th>...</th>\n",
       "      <td>...</td>\n",
       "      <td>...</td>\n",
       "      <td>...</td>\n",
       "      <td>...</td>\n",
       "    </tr>\n",
       "    <tr>\n",
       "      <th>0</th>\n",
       "      <td>6230_</td>\n",
       "      <td>11575__</td>\n",
       "      <td>RMS</td>\n",
       "      <td>OS</td>\n",
       "    </tr>\n",
       "    <tr>\n",
       "      <th>0</th>\n",
       "      <td>6230_</td>\n",
       "      <td>9846__</td>\n",
       "      <td>RMS</td>\n",
       "      <td>EWS</td>\n",
       "    </tr>\n",
       "    <tr>\n",
       "      <th>0</th>\n",
       "      <td>6230_</td>\n",
       "      <td>11483__</td>\n",
       "      <td>RMS</td>\n",
       "      <td>NB</td>\n",
       "    </tr>\n",
       "    <tr>\n",
       "      <th>0</th>\n",
       "      <td>6230_</td>\n",
       "      <td>9806__</td>\n",
       "      <td>RMS</td>\n",
       "      <td>EWS</td>\n",
       "    </tr>\n",
       "    <tr>\n",
       "      <th>0</th>\n",
       "      <td>6230_</td>\n",
       "      <td>10261__</td>\n",
       "      <td>RMS</td>\n",
       "      <td>NB</td>\n",
       "    </tr>\n",
       "  </tbody>\n",
       "</table>\n",
       "<p>2017 rows × 4 columns</p>\n",
       "</div>"
      ],
      "text/plain": [
       "     query hit_slide query_class hit_class\n",
       "0   6744__    5673__          OS        OS\n",
       "0   6744__   11575__          OS        OS\n",
       "0   6744__     6947_          OS       RMS\n",
       "0   6744__    6850__          OS       MRT\n",
       "0   6744__    6765__          OS        OS\n",
       "..     ...       ...         ...       ...\n",
       "0    6230_   11575__         RMS        OS\n",
       "0    6230_    9846__         RMS       EWS\n",
       "0    6230_   11483__         RMS        NB\n",
       "0    6230_    9806__         RMS       EWS\n",
       "0    6230_   10261__         RMS        NB\n",
       "\n",
       "[2017 rows x 4 columns]"
      ]
     },
     "execution_count": 254,
     "metadata": {},
     "output_type": "execute_result"
    }
   ],
   "source": [
    "results = pd.DataFrame({'query':[], 'hit_slide':[], 'query_class':[], 'hit_class':[]})\n",
    "for slide,vals in all_results.items():\n",
    "    for (hit_id, hamming, typ, uncertainty, index, _, _, _) in vals:\n",
    "        qc = all_metadata.loc[all_metadata['query'] == slide, 'query_class'].values\n",
    "        if len(qc): qc = qc[0]\n",
    "        else: qc = 'RMS'\n",
    "        if typ.split('_')[0] == 'RMS': typ = 'RMS'\n",
    "        row = {'query': [slide], 'hit_slide': [hit_id], 'query_class': [qc], 'hit_class': [typ]}\n",
    "        results = pd.concat([results, pd.DataFrame(row)])\n",
    "results"
   ]
  },
  {
   "cell_type": "code",
   "execution_count": null,
   "metadata": {},
   "outputs": [],
   "source": []
  },
  {
   "cell_type": "code",
   "execution_count": 255,
   "metadata": {},
   "outputs": [
    {
     "data": {
      "text/html": [
       "<div>\n",
       "<style scoped>\n",
       "    .dataframe tbody tr th:only-of-type {\n",
       "        vertical-align: middle;\n",
       "    }\n",
       "\n",
       "    .dataframe tbody tr th {\n",
       "        vertical-align: top;\n",
       "    }\n",
       "\n",
       "    .dataframe thead th {\n",
       "        text-align: right;\n",
       "    }\n",
       "</style>\n",
       "<table border=\"1\" class=\"dataframe\">\n",
       "  <thead>\n",
       "    <tr style=\"text-align: right;\">\n",
       "      <th></th>\n",
       "      <th>query</th>\n",
       "      <th>prediction</th>\n",
       "      <th>label</th>\n",
       "    </tr>\n",
       "  </thead>\n",
       "  <tbody>\n",
       "    <tr>\n",
       "      <th>0</th>\n",
       "      <td>10030__</td>\n",
       "      <td>NB</td>\n",
       "      <td>MRT</td>\n",
       "    </tr>\n",
       "    <tr>\n",
       "      <th>1</th>\n",
       "      <td>10031__</td>\n",
       "      <td>MRT</td>\n",
       "      <td>MRT</td>\n",
       "    </tr>\n",
       "    <tr>\n",
       "      <th>2</th>\n",
       "      <td>10032__</td>\n",
       "      <td>MRT</td>\n",
       "      <td>MRT</td>\n",
       "    </tr>\n",
       "    <tr>\n",
       "      <th>3</th>\n",
       "      <td>10033__</td>\n",
       "      <td>NB</td>\n",
       "      <td>MRT</td>\n",
       "    </tr>\n",
       "    <tr>\n",
       "      <th>4</th>\n",
       "      <td>10051__</td>\n",
       "      <td>[MRT, RMS]</td>\n",
       "      <td>MRT</td>\n",
       "    </tr>\n",
       "    <tr>\n",
       "      <th>...</th>\n",
       "      <td>...</td>\n",
       "      <td>...</td>\n",
       "      <td>...</td>\n",
       "    </tr>\n",
       "    <tr>\n",
       "      <th>406</th>\n",
       "      <td>9855__</td>\n",
       "      <td>EWS</td>\n",
       "      <td>EWS</td>\n",
       "    </tr>\n",
       "    <tr>\n",
       "      <th>407</th>\n",
       "      <td>9856__</td>\n",
       "      <td>RMS</td>\n",
       "      <td>EWS</td>\n",
       "    </tr>\n",
       "    <tr>\n",
       "      <th>408</th>\n",
       "      <td>9858__</td>\n",
       "      <td>MRT</td>\n",
       "      <td>EWS</td>\n",
       "    </tr>\n",
       "    <tr>\n",
       "      <th>409</th>\n",
       "      <td>9859__</td>\n",
       "      <td>RMS</td>\n",
       "      <td>EWS</td>\n",
       "    </tr>\n",
       "    <tr>\n",
       "      <th>410</th>\n",
       "      <td>9923__</td>\n",
       "      <td>MRT</td>\n",
       "      <td>MRT</td>\n",
       "    </tr>\n",
       "  </tbody>\n",
       "</table>\n",
       "<p>411 rows × 3 columns</p>\n",
       "</div>"
      ],
      "text/plain": [
       "       query  prediction label\n",
       "0    10030__          NB   MRT\n",
       "1    10031__         MRT   MRT\n",
       "2    10032__         MRT   MRT\n",
       "3    10033__          NB   MRT\n",
       "4    10051__  [MRT, RMS]   MRT\n",
       "..       ...         ...   ...\n",
       "406   9855__         EWS   EWS\n",
       "407   9856__         RMS   EWS\n",
       "408   9858__         MRT   EWS\n",
       "409   9859__         RMS   EWS\n",
       "410   9923__         MRT   MRT\n",
       "\n",
       "[411 rows x 3 columns]"
      ]
     },
     "execution_count": 255,
     "metadata": {},
     "output_type": "execute_result"
    }
   ],
   "source": [
    "#Take the majority vote, if there are two the \n",
    "results_summary = results.groupby('query')['hit_class'].agg(pd.Series.mode).reset_index()\n",
    "results_summary = pd.merge(results_summary, all_metadata, on = 'query', how = 'left')\n",
    "results_summary.loc[pd.isnull(results_summary['query_class']), 'query_class'] = 'RMS'\n",
    "results_summary = results_summary.rename(columns = {'hit_class': 'prediction', 'query_class':'label'})\n",
    "results_summary    "
   ]
  },
  {
   "cell_type": "code",
   "execution_count": 256,
   "metadata": {},
   "outputs": [],
   "source": [
    "#Generous tie breaking\n",
    "count = 0\n",
    "gen_count = 0\n",
    "for idx in range(len(results_summary)):\n",
    "    pred = results_summary.iloc[idx,1]\n",
    "    lab = results_summary.iloc[idx,2]\n",
    "    if type(pred) is np.ndarray:\n",
    "        count += 1\n",
    "        if lab in pred:\n",
    "            results_summary.iloc[idx,1] = lab\n",
    "            gen_count += 1\n",
    "        else:\n",
    "            results_summary.iloc[idx,1] = pred[np.random.randint(0, 1)]"
   ]
  },
  {
   "cell_type": "code",
   "execution_count": 257,
   "metadata": {},
   "outputs": [
    {
     "name": "stdout",
     "output_type": "stream",
     "text": [
      "Number of ties 45\n",
      "Number of generous tie breaks 30\n"
     ]
    }
   ],
   "source": [
    "print(\"Number of ties\", count)\n",
    "print(\"Number of generous tie breaks\", gen_count)"
   ]
  },
  {
   "cell_type": "code",
   "execution_count": 258,
   "metadata": {},
   "outputs": [
    {
     "data": {
      "text/plain": [
       "array([[ 21,  13,  12,   0,  21],\n",
       "       [  0,  20,   5,   0,   2],\n",
       "       [  3,   3, 107,   1,  18],\n",
       "       [  3,   2,   2,   6,   4],\n",
       "       [ 16,   9,  31,   5, 107]])"
      ]
     },
     "execution_count": 258,
     "metadata": {},
     "output_type": "execute_result"
    }
   ],
   "source": [
    "confusion_matrix(results_summary['label'], results_summary['prediction'])"
   ]
  },
  {
   "cell_type": "code",
   "execution_count": 259,
   "metadata": {},
   "outputs": [
    {
     "data": {
      "text/plain": [
       "<sklearn.metrics._plot.confusion_matrix.ConfusionMatrixDisplay at 0x7fbe1a8f8828>"
      ]
     },
     "execution_count": 259,
     "metadata": {},
     "output_type": "execute_result"
    },
    {
     "data": {
      "image/png": "[encoded data removed]",
      "text/plain": [
       "<Figure size 720x720 with 2 Axes>"
      ]
     },
     "metadata": {
      "needs_background": "light"
     },
     "output_type": "display_data"
    }
   ],
   "source": [
    "fig, ax = plt.subplots(1,1, figsize = (10,10))\n",
    "ConfusionMatrixDisplay.from_predictions(results_summary['label'], results_summary['prediction'], normalize='true', ax = ax)"
   ]
  },
  {
   "cell_type": "code",
   "execution_count": 260,
   "metadata": {},
   "outputs": [
    {
     "data": {
      "text/plain": [
       "<sklearn.metrics._plot.confusion_matrix.ConfusionMatrixDisplay at 0x7fbe281284e0>"
      ]
     },
     "execution_count": 260,
     "metadata": {},
     "output_type": "execute_result"
    },
    {
     "data": {
      "image/png": "[encoded data removed]",
      "text/plain": [
       "<Figure size 720x720 with 2 Axes>"
      ]
     },
     "metadata": {
      "needs_background": "light"
     },
     "output_type": "display_data"
    }
   ],
   "source": [
    "fig, ax = plt.subplots(1,1, figsize = (10,10))\n",
    "ConfusionMatrixDisplay.from_predictions(results_summary['label'], results_summary['prediction'], ax = ax)"
   ]
  },
  {
   "cell_type": "code",
   "execution_count": 261,
   "metadata": {},
   "outputs": [
    {
     "data": {
      "text/plain": [
       "<sklearn.metrics._plot.confusion_matrix.ConfusionMatrixDisplay at 0x7fbe25aa6fd0>"
      ]
     },
     "execution_count": 261,
     "metadata": {},
     "output_type": "execute_result"
    },
    {
     "data": {
      "image/png": "[encoded data removed]",
      "text/plain": [
       "<Figure size 720x720 with 2 Axes>"
      ]
     },
     "metadata": {
      "needs_background": "light"
     },
     "output_type": "display_data"
    }
   ],
   "source": [
    "fig, ax = plt.subplots(1,1, figsize = (10,10))\n",
    "ConfusionMatrixDisplay.from_predictions(results_summary['label'], results_summary['prediction'], normalize = 'pred', ax = ax)"
   ]
  },
  {
   "cell_type": "code",
   "execution_count": 262,
   "metadata": {
    "scrolled": false
   },
   "outputs": [
    {
     "data": {
      "text/plain": [
       "array([0.38181818, 0.54054054, 0.74048443, 0.4137931 , 0.66875   ])"
      ]
     },
     "execution_count": 262,
     "metadata": {},
     "output_type": "execute_result"
    }
   ],
   "source": [
    "f1_score(results_summary['label'], results_summary['prediction'], average = None)"
   ]
  },
  {
   "cell_type": "code",
   "execution_count": 263,
   "metadata": {},
   "outputs": [
    {
     "data": {
      "text/plain": [
       "0.5709251151086094"
      ]
     },
     "execution_count": 263,
     "metadata": {},
     "output_type": "execute_result"
    }
   ],
   "source": [
    "recall_score(results_summary['label'], results_summary['prediction'], average = 'macro')"
   ]
  },
  {
   "cell_type": "code",
   "execution_count": 264,
   "metadata": {},
   "outputs": [
    {
     "data": {
      "text/plain": [
       "0.5598760077516615"
      ]
     },
     "execution_count": 264,
     "metadata": {},
     "output_type": "execute_result"
    }
   ],
   "source": [
    "precision_score(results_summary['label'], results_summary['prediction'], average = 'macro')"
   ]
  },
  {
   "cell_type": "code",
   "execution_count": 265,
   "metadata": {
    "scrolled": false
   },
   "outputs": [
    {
     "data": {
      "text/plain": [
       "0.635036496350365"
      ]
     },
     "execution_count": 265,
     "metadata": {},
     "output_type": "execute_result"
    }
   ],
   "source": [
    "accuracy_score(results_summary['label'], results_summary['prediction'])"
   ]
  },
  {
   "cell_type": "code",
   "execution_count": 266,
   "metadata": {
    "scrolled": false
   },
   "outputs": [
    {
     "data": {
      "text/plain": [
       "RMS    0.408759\n",
       "NB     0.321168\n",
       "EWS    0.163017\n",
       "MRT    0.065693\n",
       "OS     0.041363\n",
       "Name: label, dtype: float64"
      ]
     },
     "execution_count": 266,
     "metadata": {},
     "output_type": "execute_result"
    }
   ],
   "source": [
    "results_summary['label'].value_counts()/411"
   ]
  },
  {
   "cell_type": "code",
   "execution_count": null,
   "metadata": {},
   "outputs": [],
   "source": []
  }
 ],
 "metadata": {
  "kernelspec": {
   "display_name": "Python 3",
   "language": "python",
   "name": "python3"
  },
  "language_info": {
   "codemirror_mode": {
    "name": "ipython",
    "version": 3
   },
   "file_extension": ".py",
   "mimetype": "text/x-python",
   "name": "python",
   "nbconvert_exporter": "python",
   "pygments_lexer": "ipython3",
   "version": "3.7.0"
  }
 },
 "nbformat": 4,
 "nbformat_minor": 4
}
